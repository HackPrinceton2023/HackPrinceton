{
 "cells": [
  {
   "cell_type": "code",
   "execution_count": 4,
   "id": "579a5070",
   "metadata": {},
   "outputs": [],
   "source": [
    "import torch\n",
    "import numpy as np\n",
    "import matplotlib.pyplot as plt"
   ]
  },
  {
   "cell_type": "code",
   "execution_count": null,
   "id": "68f924b8",
   "metadata": {},
   "outputs": [
    {
     "name": "stdout",
     "output_type": "stream",
     "text": [
      "a laptop computer with a cell phone and a cell phone\n"
     ]
    }
   ],
   "source": [
    "# # https://huggingface.co/Salesforce/blip-image-captioning-base\n",
    "import requests\n",
    "from PIL import Image\n",
    "from transformers import BlipProcessor, BlipForConditionalGeneration\n",
    "\n",
    "processor = BlipProcessor.from_pretrained(\"Salesforce/blip-image-captioning-base\")\n",
    "model = BlipForConditionalGeneration.from_pretrained(\"Salesforce/blip-image-captioning-base\")\n",
    "\n",
    "img_url = \"./IMG_4512.jpg\" #ToDO Replace with user Image \n",
    "\n",
    "raw_image = Image.open(img_url).convert('RGB')\n",
    "\n",
    "# conditional image captioning\n",
    "# text = \"a photography of\"\n",
    "# inputs = processor(raw_image, text, return_tensors=\"pt\")\n",
    "\n",
    "# out = model.generate(**inputs)\n",
    "# print(processor.decode(out[0], skip_special_tokens=True))\n",
    "# >>> a photography of a woman and her dog\n",
    "\n",
    "# unconditional image captioning\n",
    "inputs = processor(raw_image, return_tensors=\"pt\")\n",
    "\n",
    "out = model.generate(**inputs)\n",
    "info = processor.decode(out[0], skip_special_tokens=True)"
   ]
  },
  {
   "cell_type": "code",
   "execution_count": null,
   "id": "b7f3f338",
   "metadata": {},
   "outputs": [],
   "source": [
    "import openai\n",
    "\n",
    "def askGPT(text):\n",
    "    openai.api_key = \"GPT3_SECRET_API_KEY\"\n",
    "\n",
    "    response = openai.Completion.create(\n",
    "        engine = \"text-davinci-003\",\n",
    "        prompt = text,\n",
    "        temperature = 0.6,\n",
    "        max_tokens = 150,\n",
    "    )\n",
    "\n",
    "    return response.choices[0].text\n",
    "\n",
    "def main():\n",
    "    text = input(\"A kindergardener is learning to identify objects. What is 1 simple question to ask about an image with\" + str(info)+ \"The question and answer should be in a single string split by --\")\n",
    "    question,answer = askGPT(text).split('--')\n",
    "\n",
    "if __name__ == \"__main__\":\n",
    "    main()\n",
    "\n",
    "# python3 ./gpt3/gpt3.py \n",
    "# A kindergardener is learning to identify objects. What are\n",
    "# some simple questions to ask about an image with a laptop computer with a cell phone and a cell phone.\n",
    "# Give answer in next line to each question"
   ]
  },
  {
   "cell_type": "code",
   "execution_count": 1,
   "id": "836e571c",
   "metadata": {},
   "outputs": [
    {
     "name": "stderr",
     "output_type": "stream",
     "text": [
      "/Users/deepansha/opt/anaconda3/lib/python3.9/site-packages/scipy/__init__.py:146: UserWarning: A NumPy version >=1.16.5 and <1.23.0 is required for this version of SciPy (detected version 1.23.4\n",
      "  warnings.warn(f\"A NumPy version >={np_minversion} and <{np_maxversion}\"\n"
     ]
    },
    {
     "ename": "NameError",
     "evalue": "name 'answer' is not defined",
     "output_type": "error",
     "traceback": [
      "\u001b[0;31m---------------------------------------------------------------------------\u001b[0m",
      "\u001b[0;31mNameError\u001b[0m                                 Traceback (most recent call last)",
      "\u001b[0;32m/var/folders/gr/fc2cy0q90y552xwg5gr_f8f80000gn/T/ipykernel_91198/4134886419.py\u001b[0m in \u001b[0;36m<module>\u001b[0;34m\u001b[0m\n\u001b[1;32m      2\u001b[0m \u001b[0;32mimport\u001b[0m \u001b[0msentence_transformers\u001b[0m\u001b[0;34m\u001b[0m\u001b[0;34m\u001b[0m\u001b[0m\n\u001b[1;32m      3\u001b[0m \u001b[0minput_sentence\u001b[0m \u001b[0;34m=\u001b[0m \u001b[0;34m\"Одна голова - хорошо, а две - лучше\"\u001b[0m \u001b[0;31m#ToDO Replace with user answer\u001b[0m\u001b[0;34m\u001b[0m\u001b[0;34m\u001b[0m\u001b[0m\n\u001b[0;32m----> 4\u001b[0;31m \u001b[0msentences\u001b[0m \u001b[0;34m=\u001b[0m \u001b[0;34m[\u001b[0m\u001b[0minput_sentence\u001b[0m\u001b[0;34m,\u001b[0m\u001b[0manswer\u001b[0m\u001b[0;34m]\u001b[0m\u001b[0;34m\u001b[0m\u001b[0;34m\u001b[0m\u001b[0m\n\u001b[0m\u001b[1;32m      5\u001b[0m \u001b[0mmodel\u001b[0m \u001b[0;34m=\u001b[0m \u001b[0msentence_transformers\u001b[0m\u001b[0;34m.\u001b[0m\u001b[0mSentenceTransformer\u001b[0m\u001b[0;34m(\u001b[0m\u001b[0;34m'inkoziev/sbert_synonymy'\u001b[0m\u001b[0;34m)\u001b[0m\u001b[0;34m\u001b[0m\u001b[0;34m\u001b[0m\u001b[0m\n\u001b[1;32m      6\u001b[0m \u001b[0membeddings\u001b[0m \u001b[0;34m=\u001b[0m \u001b[0mmodel\u001b[0m\u001b[0;34m.\u001b[0m\u001b[0mencode\u001b[0m\u001b[0;34m(\u001b[0m\u001b[0msentences\u001b[0m\u001b[0;34m)\u001b[0m\u001b[0;34m\u001b[0m\u001b[0;34m\u001b[0m\u001b[0m\n",
      "\u001b[0;31mNameError\u001b[0m: name 'answer' is not defined"
     ]
    }
   ],
   "source": [
    "#!pip install -U sentence-transformers\n",
    "import sentence_transformers\n",
    "input_sentence = \"Одна голова - хорошо, а две - лучше\" #ToDO Replace with user answer\n",
    "sentences = [input_sentence,answer]\n",
    "model = sentence_transformers.SentenceTransformer('inkoziev/sbert_synonymy')\n",
    "embeddings = model.encode(sentences)\n",
    "\n",
    "s1 = sentences[0]\n",
    "v1 = embeddings[0]\n",
    "for i2 in range(1, 2):\n",
    "    s = sentence_transformers.util.cos_sim(a=v1, b=embeddings[i2]).item()\n",
    "    print(s)\n",
    "    '''\n",
    "    print('text1={} text2={} cossim={}'.format(s1, sentences[i2], s))\n",
    "@MISC{rugpt_chitchat,\n",
    "    author  = {Ilya Koziev},\n",
    "    title   = {Paraphrase Detection Model},\n",
    "    url     = {https://huggingface.co/inkoziev/sbert_synonymy},\n",
    "    year    = 2022\n",
    "}\n",
    "'''"
   ]
  },
  {
   "cell_type": "code",
   "execution_count": null,
   "id": "1160a884",
   "metadata": {},
   "outputs": [],
   "source": []
  }
 ],
 "metadata": {
  "kernelspec": {
   "display_name": "Python 3 (ipykernel)",
   "language": "python",
   "name": "python3"
  },
  "language_info": {
   "codemirror_mode": {
    "name": "ipython",
    "version": 3
   },
   "file_extension": ".py",
   "mimetype": "text/x-python",
   "name": "python",
   "nbconvert_exporter": "python",
   "pygments_lexer": "ipython3",
   "version": "3.9.13"
  }
 },
 "nbformat": 4,
 "nbformat_minor": 5
}
