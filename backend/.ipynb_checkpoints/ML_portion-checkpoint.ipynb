{
 "cells": [
  {
   "cell_type": "code",
   "execution_count": 4,
   "id": "579a5070",
   "metadata": {},
   "outputs": [],
   "source": [
    "import torch\n",
    "import numpy as np\n",
    "import matplotlib.pyplot as plt"
   ]
  },
  {
   "cell_type": "code",
   "execution_count": 6,
   "id": "68f924b8",
   "metadata": {},
   "outputs": [
    {
     "name": "stdout",
     "output_type": "stream",
     "text": [
      "a laptop computer with a cell phone and a cell phone\n"
     ]
    }
   ],
   "source": [
    "# # https://huggingface.co/Salesforce/blip-image-captioning-base\n",
    "import requests\n",
    "from PIL import Image\n",
    "from transformers import BlipProcessor, BlipForConditionalGeneration\n",
    "\n",
    "processor = BlipProcessor.from_pretrained(\"Salesforce/blip-image-captioning-base\")\n",
    "model = BlipForConditionalGeneration.from_pretrained(\"Salesforce/blip-image-captioning-base\")\n",
    "\n",
    "img_url = \"./IMG_4512.jpg\"\n",
    "\n",
    "raw_image = Image.open(img_url).convert('RGB')\n",
    "\n",
    "# conditional image captioning\n",
    "# text = \"a photography of\"\n",
    "# inputs = processor(raw_image, text, return_tensors=\"pt\")\n",
    "\n",
    "# out = model.generate(**inputs)\n",
    "# print(processor.decode(out[0], skip_special_tokens=True))\n",
    "# >>> a photography of a woman and her dog\n",
    "\n",
    "# unconditional image captioning\n",
    "inputs = processor(raw_image, return_tensors=\"pt\")\n",
    "\n",
    "out = model.generate(**inputs)\n",
    "print(processor.decode(out[0], skip_special_tokens=True))"
   ]
  }
 ],
 "metadata": {
  "kernelspec": {
   "display_name": "Python 3",
   "language": "python",
   "name": "python3"
  },
  "language_info": {
   "codemirror_mode": {
    "name": "ipython",
    "version": 3
   },
   "file_extension": ".py",
   "mimetype": "text/x-python",
   "name": "python",
   "nbconvert_exporter": "python",
   "pygments_lexer": "ipython3",
   "version": "3.10.2 (tags/v3.10.2:a58ebcc, Jan 17 2022, 14:12:15) [MSC v.1929 64 bit (AMD64)]"
  },
  "vscode": {
   "interpreter": {
    "hash": "7077e75dc8b4af0bb1faf06ee623faf782c64e1642973802f4bf019f4c583894"
   }
  }
 },
 "nbformat": 4,
 "nbformat_minor": 5
}
