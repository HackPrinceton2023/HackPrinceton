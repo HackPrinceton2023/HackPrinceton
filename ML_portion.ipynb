{
 "cells": [
  {
   "cell_type": "code",
   "execution_count": 4,
   "id": "579a5070",
   "metadata": {},
   "outputs": [],
   "source": [
    "import torch\n",
    "import numpy as np\n",
    "import matplotlib.pyplot as plt"
   ]
  },
  {
   "cell_type": "code",
   "execution_count": null,
   "id": "68f924b8",
   "metadata": {},
   "outputs": [
    {
     "name": "stdout",
     "output_type": "stream",
     "text": [
      "a laptop computer with a cell phone and a cell phone\n"
     ]
    }
   ],
   "source": [
    "# # https://huggingface.co/Salesforce/blip-image-captioning-base\n",
    "import requests\n",
    "from PIL import Image\n",
    "from transformers import BlipProcessor, BlipForConditionalGeneration\n",
    "\n",
    "processor = BlipProcessor.from_pretrained(\"Salesforce/blip-image-captioning-base\")\n",
    "model = BlipForConditionalGeneration.from_pretrained(\"Salesforce/blip-image-captioning-base\")\n",
    "\n",
    "img_url = \"./IMG_4512.jpg\"\n",
    "\n",
    "raw_image = Image.open(img_url).convert('RGB')\n",
    "\n",
    "# conditional image captioning\n",
    "# text = \"a photography of\"\n",
    "# inputs = processor(raw_image, text, return_tensors=\"pt\")\n",
    "\n",
    "# out = model.generate(**inputs)\n",
    "# print(processor.decode(out[0], skip_special_tokens=True))\n",
    "# >>> a photography of a woman and her dog\n",
    "\n",
    "# unconditional image captioning\n",
    "inputs = processor(raw_image, return_tensors=\"pt\")\n",
    "\n",
    "out = model.generate(**inputs)\n",
    "answer = processor.decode(out[0], skip_special_tokens=True)"
   ]
  },
  {
   "cell_type": "code",
   "execution_count": null,
   "id": "836e571c",
   "metadata": {},
   "outputs": [],
   "source": [
    "#!pip install -U sentence-transformers\n",
    "import sentence_transformers\n",
    "input_sentence = \"Одна голова - хорошо, а две - лучше\"\n",
    "sentences = [input_sentence,answer]\n",
    "model = sentence_transformers.SentenceTransformer('inkoziev/sbert_synonymy')\n",
    "embeddings = model.encode(sentences)\n",
    "\n",
    "s1 = sentences[0]\n",
    "v1 = embeddings[0]\n",
    "for i2 in range(1, 2):\n",
    "    s = sentence_transformers.util.cos_sim(a=v1, b=embeddings[i2]).item()\n",
    "    print(s)\n",
    "    '''\n",
    "    print('text1={} text2={} cossim={}'.format(s1, sentences[i2], s))\n",
    "@MISC{rugpt_chitchat,\n",
    "    author  = {Ilya Koziev},\n",
    "    title   = {Paraphrase Detection Model},\n",
    "    url     = {https://huggingface.co/inkoziev/sbert_synonymy},\n",
    "    year    = 2022\n",
    "}\n",
    "'''"
   ]
  },
  {
   "cell_type": "code",
   "execution_count": null,
   "id": "fc1b6432",
   "metadata": {},
   "outputs": [],
   "source": []
  }
 ],
 "metadata": {
  "kernelspec": {
   "display_name": "Python 3 (ipykernel)",
   "language": "python",
   "name": "python3"
  },
  "language_info": {
   "codemirror_mode": {
    "name": "ipython",
    "version": 3
   },
   "file_extension": ".py",
   "mimetype": "text/x-python",
   "name": "python",
   "nbconvert_exporter": "python",
   "pygments_lexer": "ipython3",
   "version": "3.9.13"
  }
 },
 "nbformat": 4,
 "nbformat_minor": 5
}
